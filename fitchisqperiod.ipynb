{
 "cells": [
  {
   "cell_type": "code",
   "execution_count": null,
   "metadata": {
    "collapsed": true
   },
   "outputs": [],
   "source": [
    "# coding: utf-8\n",
    "import numpy as np\n",
    "from matplotlib.pyplot import subplots, show\n",
    "from kapteyn import kmpfit"
   ]
  },
  {
   "cell_type": "code",
   "execution_count": null,
   "metadata": {
    "collapsed": true
   },
   "outputs": [],
   "source": [
    "def model(p,x):\n",
    "    return p[0]*np.exp(-(x-p[2])**2/p[1]**2)+p[3]\n",
    "\n",
    "def model(p,x):\n",
    "    return p[0]*np.exp(-np.abs(x-p[2])/p[1])+p[3]\n",
    "\n",
    "def model(p,x):\n",
    "    return p[0]*p[1]**2/((x-p[2])**2 + p[1]**2)+p[3]\n",
    "\n",
    "fitobj=kmpfit.simplefit(model,[6e-10, 1e-6, 0.55795, 0.4e-10], period, chisq)"
   ]
  },
  {
   "cell_type": "code",
   "execution_count": null,
   "metadata": {},
   "outputs": [],
   "source": [
    "fitobj.params"
   ]
  },
  {
   "cell_type": "code",
   "execution_count": null,
   "metadata": {},
   "outputs": [],
   "source": [
    "fig, ax = subplots()\n",
    "data = np.load(\"chisqs.npz\")\n",
    "period = data['period']\n",
    "chisq = data['chisq']\n",
    "ax.plot(period,chisq)\n",
    "ax.plot(period, model(fitobj.params, period))\n",
    "#ax.set(xlim=(0.033745,0.033748))\n",
    "#ax.set_xlim(56.5,57)\n",
    "#ax.axvline(dbperiod)\n",
    "show()"
   ]
  },
  {
   "cell_type": "code",
   "execution_count": null,
   "metadata": {},
   "outputs": [],
   "source": [
    "from astropy.io import fits\n",
    "import numpy as np\n",
    "\n",
    "hdulist = fits.open(\"data/obs-10-04-2018/B2016+28_10-04-2018.fits\")\n",
    "col_period = fits.Column(name='period', array=data['period'], format='D')\n",
    "col_DM = fits.Column(name='DM', array=data['DM'], format='D')\n",
    "col_chisq = fits.Column(name='chisq', array=data['chisq'], format='D')\n",
    "t = fits.BinTableHDU.from_columns([col_period, col_DM, col_chisq])\n",
    "t.header['fitpars'] = str(fitobj.params)\n",
    "t.header['bestp'] = fitobj.params[2]\n",
    "t.header['fitfunc'] = \"Lorentzian\"\n",
    "hdulist.append(t)\n",
    "hdulist.writeto(\"data/obs-10-04-2018/B2016+28_10-04-2018-withP.fits\")"
   ]
  }
 ],
 "metadata": {
  "kernelspec": {
   "display_name": "Python 3",
   "language": "python",
   "name": "python3"
  },
  "language_info": {
   "codemirror_mode": {
    "name": "ipython",
    "version": 3
   },
   "file_extension": ".py",
   "mimetype": "text/x-python",
   "name": "python",
   "nbconvert_exporter": "python",
   "pygments_lexer": "ipython3",
   "version": "3.6.3"
  }
 },
 "nbformat": 4,
 "nbformat_minor": 2
}
