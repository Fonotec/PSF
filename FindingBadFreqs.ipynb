{
 "cells": [
  {
   "cell_type": "code",
   "execution_count": null,
   "metadata": {},
   "outputs": [],
   "source": [
    "from observation import Observation\n",
    "from folding import timeFolding\n",
    "import numpy as np\n",
    "from matplotlib.pyplot import subplots, show\n",
    "from dispersionMeasure import dedispersion"
   ]
  },
  {
   "cell_type": "code",
   "execution_count": null,
   "metadata": {},
   "outputs": [],
   "source": [
    "obs = Observation(\"examples/huispulsar_filterbank/2017-09-20-07:05:00_B0329+54.fil\")"
   ]
  },
  {
   "cell_type": "code",
   "execution_count": null,
   "metadata": {},
   "outputs": [],
   "source": [
    "folded = timeFolding(obs.data, 500, obs.pulsar.period, obs.data==0, obs.times)\n",
    "foldedscaled = (folded - folded.mean(axis=0))/folded.std(axis=0)"
   ]
  },
  {
   "cell_type": "code",
   "execution_count": null,
   "metadata": {},
   "outputs": [],
   "source": [
    "fig, ax = subplots()\n",
    "ax.matshow(foldedscaled)\n",
    "show()"
   ]
  },
  {
   "cell_type": "code",
   "execution_count": null,
   "metadata": {},
   "outputs": [],
   "source": [
    "obs2 = Observation(\"examples/B1133+16_filterbank/2018-01-19-21:16:50_B1133+16.fil\")"
   ]
  },
  {
   "cell_type": "code",
   "execution_count": null,
   "metadata": {},
   "outputs": [],
   "source": [
    "folded2 = timeFolding(obs2.data, 500, obs2.pulsar.period, obs2.data==0, obs2.times)\n",
    "foldedscaled2 = (folded2 - folded2.mean(axis=0))/folded2.std(axis=0)"
   ]
  },
  {
   "cell_type": "code",
   "execution_count": null,
   "metadata": {},
   "outputs": [],
   "source": [
    "fig, ax = subplots()\n",
    "dedisp=dedispersion(folded, obs, obs.pulsar.period, obs.pulsar.DM)\n",
    "ax.plot(dedisp)\n",
    "show()"
   ]
  }
 ],
 "metadata": {
  "kernelspec": {
   "display_name": "Python 3",
   "language": "python",
   "name": "python3"
  },
  "language_info": {
   "codemirror_mode": {
    "name": "ipython",
    "version": 3
   },
   "file_extension": ".py",
   "mimetype": "text/x-python",
   "name": "python",
   "nbconvert_exporter": "python",
   "pygments_lexer": "ipython3",
   "version": "3.7.1"
  }
 },
 "nbformat": 4,
 "nbformat_minor": 2
}
